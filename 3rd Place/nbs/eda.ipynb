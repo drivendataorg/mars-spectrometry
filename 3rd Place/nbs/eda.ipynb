{
 "cells": [
  {
   "cell_type": "code",
   "execution_count": 11,
   "metadata": {},
   "outputs": [],
   "source": [
    "import pandas as pd\n",
    "import os\n",
    "from omegaconf import OmegaConf\n",
    "import joblib\n",
    "from sklearn.metrics import log_loss\n",
    "import warnings\n",
    "warnings.simplefilter('ignore')\n",
    "import sys\n",
    "sys.path.append('..')\n",
    "from src.preprocessing import get_sdf"
   ]
  },
  {
   "cell_type": "code",
   "execution_count": 12,
   "metadata": {},
   "outputs": [
    {
     "name": "stdout",
     "output_type": "stream",
     "text": [
      "Wall time: 13 ms\n"
     ]
    }
   ],
   "source": [
    "%%time\n",
    "Config = OmegaConf.load('../configs/data.yaml')\n",
    "\n",
    "train_labels = pd.read_csv(os.path.join(Config.DATA_DIR, 'train_labels.csv'))\n",
    "val_labels = pd.read_csv(os.path.join(Config.DATA_DIR, 'val_labels.csv'))\n",
    "metadata = pd.read_csv(os.path.join(Config.DATA_DIR, 'metadata.csv'))"
   ]
  },
  {
   "cell_type": "code",
   "execution_count": 13,
   "metadata": {},
   "outputs": [
    {
     "name": "stderr",
     "output_type": "stream",
     "text": [
      "100%|██████████| 1570/1570 [00:09<00:00, 164.99it/s]\n"
     ]
    }
   ],
   "source": [
    "sdf = get_sdf(metadata)"
   ]
  },
  {
   "cell_type": "code",
   "execution_count": 15,
   "metadata": {},
   "outputs": [
    {
     "data": {
      "text/html": [
       "<div>\n",
       "<style scoped>\n",
       "    .dataframe tbody tr th:only-of-type {\n",
       "        vertical-align: middle;\n",
       "    }\n",
       "\n",
       "    .dataframe tbody tr th {\n",
       "        vertical-align: top;\n",
       "    }\n",
       "\n",
       "    .dataframe thead th {\n",
       "        text-align: right;\n",
       "    }\n",
       "</style>\n",
       "<table border=\"1\" class=\"dataframe\">\n",
       "  <thead>\n",
       "    <tr style=\"text-align: right;\">\n",
       "      <th></th>\n",
       "      <th>time</th>\n",
       "      <th>temp</th>\n",
       "      <th>m/z</th>\n",
       "      <th>abundance</th>\n",
       "      <th>sample_id</th>\n",
       "      <th>seq</th>\n",
       "      <th>seq_ord</th>\n",
       "      <th>abundance_orig</th>\n",
       "      <th>seq_norm</th>\n",
       "      <th>temp_norm</th>\n",
       "      <th>temp_bin</th>\n",
       "      <th>max_abundance_time</th>\n",
       "      <th>max_abundance_temp</th>\n",
       "      <th>seq_ord_norm</th>\n",
       "      <th>abundance_bin</th>\n",
       "    </tr>\n",
       "  </thead>\n",
       "  <tbody>\n",
       "    <tr>\n",
       "      <th>0</th>\n",
       "      <td>1531.060059</td>\n",
       "      <td>988.685974</td>\n",
       "      <td>28</td>\n",
       "      <td>1.000000e+00</td>\n",
       "      <td>S1569</td>\n",
       "      <td>51786</td>\n",
       "      <td>1</td>\n",
       "      <td>4.358824e+05</td>\n",
       "      <td>0.621890</td>\n",
       "      <td>0.900607</td>\n",
       "      <td>4</td>\n",
       "      <td>1531.06</td>\n",
       "      <td>988.685974</td>\n",
       "      <td>0.000012</td>\n",
       "      <td>8.0</td>\n",
       "    </tr>\n",
       "    <tr>\n",
       "      <th>1</th>\n",
       "      <td>1526.979980</td>\n",
       "      <td>986.080017</td>\n",
       "      <td>28</td>\n",
       "      <td>9.947367e-01</td>\n",
       "      <td>S1569</td>\n",
       "      <td>51648</td>\n",
       "      <td>2</td>\n",
       "      <td>4.335882e+05</td>\n",
       "      <td>0.620232</td>\n",
       "      <td>0.898233</td>\n",
       "      <td>4</td>\n",
       "      <td>1531.06</td>\n",
       "      <td>988.685974</td>\n",
       "      <td>0.000024</td>\n",
       "      <td>7.0</td>\n",
       "    </tr>\n",
       "    <tr>\n",
       "      <th>2</th>\n",
       "      <td>1576.619995</td>\n",
       "      <td>1011.830017</td>\n",
       "      <td>28</td>\n",
       "      <td>9.924424e-01</td>\n",
       "      <td>S1569</td>\n",
       "      <td>53327</td>\n",
       "      <td>3</td>\n",
       "      <td>4.325882e+05</td>\n",
       "      <td>0.640395</td>\n",
       "      <td>0.921689</td>\n",
       "      <td>4</td>\n",
       "      <td>1531.06</td>\n",
       "      <td>988.685974</td>\n",
       "      <td>0.000036</td>\n",
       "      <td>7.0</td>\n",
       "    </tr>\n",
       "    <tr>\n",
       "      <th>3</th>\n",
       "      <td>1398.459961</td>\n",
       "      <td>913.219971</td>\n",
       "      <td>28</td>\n",
       "      <td>9.897436e-01</td>\n",
       "      <td>S1569</td>\n",
       "      <td>47301</td>\n",
       "      <td>4</td>\n",
       "      <td>4.314118e+05</td>\n",
       "      <td>0.568030</td>\n",
       "      <td>0.831864</td>\n",
       "      <td>4</td>\n",
       "      <td>1531.06</td>\n",
       "      <td>988.685974</td>\n",
       "      <td>0.000048</td>\n",
       "      <td>7.0</td>\n",
       "    </tr>\n",
       "    <tr>\n",
       "      <th>4</th>\n",
       "      <td>1497.739990</td>\n",
       "      <td>969.835022</td>\n",
       "      <td>28</td>\n",
       "      <td>9.875843e-01</td>\n",
       "      <td>S1569</td>\n",
       "      <td>50659</td>\n",
       "      <td>5</td>\n",
       "      <td>4.304706e+05</td>\n",
       "      <td>0.608356</td>\n",
       "      <td>0.883435</td>\n",
       "      <td>4</td>\n",
       "      <td>1531.06</td>\n",
       "      <td>988.685974</td>\n",
       "      <td>0.000060</td>\n",
       "      <td>7.0</td>\n",
       "    </tr>\n",
       "    <tr>\n",
       "      <th>...</th>\n",
       "      <td>...</td>\n",
       "      <td>...</td>\n",
       "      <td>...</td>\n",
       "      <td>...</td>\n",
       "      <td>...</td>\n",
       "      <td>...</td>\n",
       "      <td>...</td>\n",
       "      <td>...</td>\n",
       "      <td>...</td>\n",
       "      <td>...</td>\n",
       "      <td>...</td>\n",
       "      <td>...</td>\n",
       "      <td>...</td>\n",
       "      <td>...</td>\n",
       "      <td>...</td>\n",
       "    </tr>\n",
       "    <tr>\n",
       "      <th>49150826</th>\n",
       "      <td>1868.926025</td>\n",
       "      <td>352.739014</td>\n",
       "      <td>90</td>\n",
       "      <td>3.496547e-07</td>\n",
       "      <td>S0000</td>\n",
       "      <td>18108</td>\n",
       "      <td>19103</td>\n",
       "      <td>-2.869600e-14</td>\n",
       "      <td>0.947716</td>\n",
       "      <td>0.952363</td>\n",
       "      <td>4</td>\n",
       "      <td>431.06</td>\n",
       "      <td>103.666000</td>\n",
       "      <td>0.999791</td>\n",
       "      <td>0.0</td>\n",
       "    </tr>\n",
       "    <tr>\n",
       "      <th>49150827</th>\n",
       "      <td>1098.510986</td>\n",
       "      <td>218.845993</td>\n",
       "      <td>89</td>\n",
       "      <td>3.177770e-07</td>\n",
       "      <td>S0000</td>\n",
       "      <td>10682</td>\n",
       "      <td>19104</td>\n",
       "      <td>-2.984505e-14</td>\n",
       "      <td>0.559062</td>\n",
       "      <td>0.590864</td>\n",
       "      <td>2</td>\n",
       "      <td>431.06</td>\n",
       "      <td>103.666000</td>\n",
       "      <td>0.999843</td>\n",
       "      <td>0.0</td>\n",
       "    </tr>\n",
       "    <tr>\n",
       "      <th>49150828</th>\n",
       "      <td>1067.687012</td>\n",
       "      <td>213.656998</td>\n",
       "      <td>90</td>\n",
       "      <td>2.484440e-07</td>\n",
       "      <td>S0000</td>\n",
       "      <td>10386</td>\n",
       "      <td>19105</td>\n",
       "      <td>-3.234420e-14</td>\n",
       "      <td>0.543570</td>\n",
       "      <td>0.576854</td>\n",
       "      <td>2</td>\n",
       "      <td>431.06</td>\n",
       "      <td>103.666000</td>\n",
       "      <td>0.999895</td>\n",
       "      <td>0.0</td>\n",
       "    </tr>\n",
       "    <tr>\n",
       "      <th>49150829</th>\n",
       "      <td>934.195007</td>\n",
       "      <td>191.158997</td>\n",
       "      <td>99</td>\n",
       "      <td>2.339665e-07</td>\n",
       "      <td>S0000</td>\n",
       "      <td>9108</td>\n",
       "      <td>19106</td>\n",
       "      <td>-3.286605e-14</td>\n",
       "      <td>0.476684</td>\n",
       "      <td>0.516112</td>\n",
       "      <td>2</td>\n",
       "      <td>431.06</td>\n",
       "      <td>103.666000</td>\n",
       "      <td>0.999948</td>\n",
       "      <td>0.0</td>\n",
       "    </tr>\n",
       "    <tr>\n",
       "      <th>49150830</th>\n",
       "      <td>41.043999</td>\n",
       "      <td>37.292999</td>\n",
       "      <td>85</td>\n",
       "      <td>0.000000e+00</td>\n",
       "      <td>S0000</td>\n",
       "      <td>481</td>\n",
       "      <td>19107</td>\n",
       "      <td>-4.129951e-14</td>\n",
       "      <td>0.025174</td>\n",
       "      <td>0.100688</td>\n",
       "      <td>0</td>\n",
       "      <td>431.06</td>\n",
       "      <td>103.666000</td>\n",
       "      <td>1.000000</td>\n",
       "      <td>0.0</td>\n",
       "    </tr>\n",
       "  </tbody>\n",
       "</table>\n",
       "<p>49150831 rows × 15 columns</p>\n",
       "</div>"
      ],
      "text/plain": [
       "                 time         temp  m/z     abundance sample_id    seq  \\\n",
       "0         1531.060059   988.685974   28  1.000000e+00     S1569  51786   \n",
       "1         1526.979980   986.080017   28  9.947367e-01     S1569  51648   \n",
       "2         1576.619995  1011.830017   28  9.924424e-01     S1569  53327   \n",
       "3         1398.459961   913.219971   28  9.897436e-01     S1569  47301   \n",
       "4         1497.739990   969.835022   28  9.875843e-01     S1569  50659   \n",
       "...               ...          ...  ...           ...       ...    ...   \n",
       "49150826  1868.926025   352.739014   90  3.496547e-07     S0000  18108   \n",
       "49150827  1098.510986   218.845993   89  3.177770e-07     S0000  10682   \n",
       "49150828  1067.687012   213.656998   90  2.484440e-07     S0000  10386   \n",
       "49150829   934.195007   191.158997   99  2.339665e-07     S0000   9108   \n",
       "49150830    41.043999    37.292999   85  0.000000e+00     S0000    481   \n",
       "\n",
       "          seq_ord  abundance_orig  seq_norm  temp_norm  temp_bin  \\\n",
       "0               1    4.358824e+05  0.621890   0.900607         4   \n",
       "1               2    4.335882e+05  0.620232   0.898233         4   \n",
       "2               3    4.325882e+05  0.640395   0.921689         4   \n",
       "3               4    4.314118e+05  0.568030   0.831864         4   \n",
       "4               5    4.304706e+05  0.608356   0.883435         4   \n",
       "...           ...             ...       ...        ...       ...   \n",
       "49150826    19103   -2.869600e-14  0.947716   0.952363         4   \n",
       "49150827    19104   -2.984505e-14  0.559062   0.590864         2   \n",
       "49150828    19105   -3.234420e-14  0.543570   0.576854         2   \n",
       "49150829    19106   -3.286605e-14  0.476684   0.516112         2   \n",
       "49150830    19107   -4.129951e-14  0.025174   0.100688         0   \n",
       "\n",
       "          max_abundance_time  max_abundance_temp  seq_ord_norm  abundance_bin  \n",
       "0                    1531.06          988.685974      0.000012            8.0  \n",
       "1                    1531.06          988.685974      0.000024            7.0  \n",
       "2                    1531.06          988.685974      0.000036            7.0  \n",
       "3                    1531.06          988.685974      0.000048            7.0  \n",
       "4                    1531.06          988.685974      0.000060            7.0  \n",
       "...                      ...                 ...           ...            ...  \n",
       "49150826              431.06          103.666000      0.999791            0.0  \n",
       "49150827              431.06          103.666000      0.999843            0.0  \n",
       "49150828              431.06          103.666000      0.999895            0.0  \n",
       "49150829              431.06          103.666000      0.999948            0.0  \n",
       "49150830              431.06          103.666000      1.000000            0.0  \n",
       "\n",
       "[49150831 rows x 15 columns]"
      ]
     },
     "execution_count": 15,
     "metadata": {},
     "output_type": "execute_result"
    }
   ],
   "source": [
    "sdf"
   ]
  },
  {
   "cell_type": "code",
   "execution_count": 42,
   "metadata": {},
   "outputs": [],
   "source": [
    "sample_id = 'S1569'\n",
    "sample_spectra = sdf[sdf['sample_id'] == sample_id]\n",
    "sample_spectra = sample_spectra.sort_values(by='time').reset_index(drop=True)"
   ]
  },
  {
   "cell_type": "code",
   "execution_count": 43,
   "metadata": {},
   "outputs": [],
   "source": [
    "top_abundance_mz = sample_spectra.groupby('m/z')['abundance'].max().sort_values().index.values[-1]"
   ]
  },
  {
   "cell_type": "code",
   "execution_count": 45,
   "metadata": {},
   "outputs": [],
   "source": [
    "import matplotlib.pyplot as plt"
   ]
  },
  {
   "cell_type": "code",
   "execution_count": 48,
   "metadata": {},
   "outputs": [
    {
     "data": {
      "image/png": "[encoded data removed]",
      "text/plain": [
       "<Figure size 720x360 with 1 Axes>"
      ]
     },
     "metadata": {
      "needs_background": "light"
     },
     "output_type": "display_data"
    }
   ],
   "source": [
    "sample_spectra_top = sample_spectra[sample_spectra['m/z'] == top_abundance_mz]\n",
    "sample_spectra_top.set_index('time')['abundance'].plot(figsize=(10, 5))\n",
    "_ = plt.title(f'Sample ID: {sample_id} and m/z: {top_abundance_mz}')"
   ]
  },
  {
   "cell_type": "code",
   "execution_count": 50,
   "metadata": {},
   "outputs": [
    {
     "data": {
      "image/png": "[encoded data removed]",
      "text/plain": [
       "<Figure size 864x360 with 1 Axes>"
      ]
     },
     "metadata": {
      "needs_background": "light"
     },
     "output_type": "display_data"
    }
   ],
   "source": [
    "from scipy import signal\n",
    "res = signal.resample(sample_spectra_top['abundance'], 25)\n",
    "pd.Series(res).plot(figsize=(12, 5))\n",
    "_ = plt.title(f'Sample ID: {sample_id} and m/z: {top_abundance_mz}')"
   ]
  }
 ],
 "metadata": {
  "interpreter": {
   "hash": "7ef22b05ac4e70f126e4c635ba510ca9afc8d5ff2be12823e2ba1ffb49c7be06"
  },
  "kernelspec": {
   "display_name": "Python 3.8.5 ('base')",
   "language": "python",
   "name": "python3"
  },
  "language_info": {
   "codemirror_mode": {
    "name": "ipython",
    "version": 3
   },
   "file_extension": ".py",
   "mimetype": "text/x-python",
   "name": "python",
   "nbconvert_exporter": "python",
   "pygments_lexer": "ipython3",
   "version": "3.8.5"
  },
  "orig_nbformat": 4
 },
 "nbformat": 4,
 "nbformat_minor": 2
}
