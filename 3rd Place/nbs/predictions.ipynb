{
 "cells": [
  {
   "cell_type": "code",
   "execution_count": 1,
   "metadata": {},
   "outputs": [],
   "source": [
    "import pandas as pd\n",
    "import os\n",
    "from omegaconf import OmegaConf\n",
    "import joblib\n",
    "from sklearn.metrics import log_loss\n",
    "import warnings\n",
    "warnings.simplefilter('ignore')\n",
    "import sys\n",
    "sys.path.append('..')\n",
    "from src.preprocessing import create_training_and_testing_data\n",
    "from src import modelling\n",
    "import importlib"
   ]
  },
  {
   "cell_type": "code",
   "execution_count": 2,
   "metadata": {},
   "outputs": [
    {
     "name": "stdout",
     "output_type": "stream",
     "text": [
      "CPU times: user 14 ms, sys: 2.68 ms, total: 16.7 ms\n",
      "Wall time: 14.3 ms\n"
     ]
    }
   ],
   "source": [
    "%%time\n",
    "Config = OmegaConf.load('../configs/data.yaml')\n",
    "\n",
    "metadata = pd.read_csv(os.path.join(Config.DATA_DIR, 'metadata.csv'))\n",
    "submission_format = pd.read_csv(os.path.join(Config.DATA_DIR, 'submission_format.csv'))"
   ]
  },
  {
   "cell_type": "code",
   "execution_count": 3,
   "metadata": {},
   "outputs": [
    {
     "data": {
      "text/plain": [
       "'../models/model_final.joblib'"
      ]
     },
     "execution_count": 3,
     "metadata": {},
     "output_type": "execute_result"
    }
   ],
   "source": [
    "os.path.join(Config.MODEL_DIR, 'model_final.joblib')"
   ]
  },
  {
   "cell_type": "code",
   "execution_count": 4,
   "metadata": {},
   "outputs": [],
   "source": [
    "clf = joblib.load(os.path.join(Config.MODEL_DIR, 'model_final.joblib'))"
   ]
  },
  {
   "cell_type": "code",
   "execution_count": null,
   "metadata": {},
   "outputs": [],
   "source": []
  },
  {
   "cell_type": "code",
   "execution_count": 5,
   "metadata": {},
   "outputs": [
    {
     "name": "stdout",
     "output_type": "stream",
     "text": [
      "Reading sample data\n"
     ]
    },
    {
     "name": "stderr",
     "output_type": "stream",
     "text": [
      "100%|██████████| 804/804 [00:04<00:00, 199.98it/s]\n"
     ]
    },
    {
     "name": "stdout",
     "output_type": "stream",
     "text": [
      "Starting Feature Engineering\n"
     ]
    },
    {
     "name": "stderr",
     "output_type": "stream",
     "text": [
      "100%|██████████| 6/6 [00:38<00:00,  6.41s/it]\n",
      "100%|██████████| 5/5 [00:05<00:00,  1.19s/it]\n"
     ]
    },
    {
     "name": "stdout",
     "output_type": "stream",
     "text": [
      "Predicting on base models ..................\n",
      "\n"
     ]
    },
    {
     "name": "stderr",
     "output_type": "stream",
     "text": [
      "100%|██████████| 25/25 [00:38<00:00,  1.55s/it]\n"
     ]
    },
    {
     "name": "stdout",
     "output_type": "stream",
     "text": [
      "\n",
      "Adding meta model features ..................\n",
      "\n",
      "Predicting on meta model ..................\n",
      "\n"
     ]
    },
    {
     "name": "stderr",
     "output_type": "stream",
     "text": [
      "100%|██████████| 31/31 [00:12<00:00,  2.44it/s]\n"
     ]
    }
   ],
   "source": [
    "#### Predictions being done separately\n",
    "#### Can be done per sample_id as the competition requires\n",
    "#### Just metadata for the sample with all columns needs to be passed\n",
    "\n",
    "test_meta = metadata[metadata['split'].isin(['val', 'test'])].reset_index(drop=True)\n",
    "test = create_training_and_testing_data(test_meta, labels=None)\n",
    "preds = clf.predict(test)"
   ]
  },
  {
   "cell_type": "code",
   "execution_count": 6,
   "metadata": {},
   "outputs": [],
   "source": [
    "test['preds'] = preds"
   ]
  },
  {
   "cell_type": "code",
   "execution_count": 7,
   "metadata": {},
   "outputs": [],
   "source": [
    "target_inv_mapper = {\n",
    "    0: 'basalt',\n",
    "    1: 'carbonate',\n",
    "    2: 'chloride',\n",
    "    3: 'iron_oxide',\n",
    "    4: 'oxalate',\n",
    "    5: 'oxychlorine',\n",
    "    6: 'phyllosilicate',\n",
    "    7: 'silicate',\n",
    "    8: 'sulfate',\n",
    "    9: 'sulfide'}"
   ]
  },
  {
   "cell_type": "code",
   "execution_count": 8,
   "metadata": {},
   "outputs": [],
   "source": [
    "tmp = pd.pivot_table(test[['sample_id', 'target_label', 'preds']], index='sample_id', columns='target_label', values='preds')\n",
    "tmp.columns = [target_inv_mapper[c] for c in tmp.columns]"
   ]
  },
  {
   "cell_type": "code",
   "execution_count": 9,
   "metadata": {},
   "outputs": [],
   "source": [
    "submission_format.set_index('sample_id', inplace=True)\n",
    "submission_format.loc[tmp.index, tmp.columns] = tmp\n",
    "submission_format = submission_format.reset_index()"
   ]
  },
  {
   "cell_type": "code",
   "execution_count": 10,
   "metadata": {},
   "outputs": [
    {
     "data": {
      "text/html": [
       "<div>\n",
       "<style scoped>\n",
       "    .dataframe tbody tr th:only-of-type {\n",
       "        vertical-align: middle;\n",
       "    }\n",
       "\n",
       "    .dataframe tbody tr th {\n",
       "        vertical-align: top;\n",
       "    }\n",
       "\n",
       "    .dataframe thead th {\n",
       "        text-align: right;\n",
       "    }\n",
       "</style>\n",
       "<table border=\"1\" class=\"dataframe\">\n",
       "  <thead>\n",
       "    <tr style=\"text-align: right;\">\n",
       "      <th></th>\n",
       "      <th>sample_id</th>\n",
       "      <th>basalt</th>\n",
       "      <th>carbonate</th>\n",
       "      <th>chloride</th>\n",
       "      <th>iron_oxide</th>\n",
       "      <th>oxalate</th>\n",
       "      <th>oxychlorine</th>\n",
       "      <th>phyllosilicate</th>\n",
       "      <th>silicate</th>\n",
       "      <th>sulfate</th>\n",
       "      <th>sulfide</th>\n",
       "    </tr>\n",
       "  </thead>\n",
       "  <tbody>\n",
       "    <tr>\n",
       "      <th>0</th>\n",
       "      <td>S0766</td>\n",
       "      <td>0.005956</td>\n",
       "      <td>0.006670</td>\n",
       "      <td>0.005801</td>\n",
       "      <td>0.006181</td>\n",
       "      <td>0.005039</td>\n",
       "      <td>0.005492</td>\n",
       "      <td>0.005877</td>\n",
       "      <td>0.018863</td>\n",
       "      <td>0.005895</td>\n",
       "      <td>0.004924</td>\n",
       "    </tr>\n",
       "    <tr>\n",
       "      <th>1</th>\n",
       "      <td>S0767</td>\n",
       "      <td>0.010228</td>\n",
       "      <td>0.006565</td>\n",
       "      <td>0.006220</td>\n",
       "      <td>0.006668</td>\n",
       "      <td>0.006094</td>\n",
       "      <td>0.006319</td>\n",
       "      <td>0.009484</td>\n",
       "      <td>0.029787</td>\n",
       "      <td>0.007979</td>\n",
       "      <td>0.005950</td>\n",
       "    </tr>\n",
       "    <tr>\n",
       "      <th>2</th>\n",
       "      <td>S0768</td>\n",
       "      <td>0.986097</td>\n",
       "      <td>0.117195</td>\n",
       "      <td>0.010101</td>\n",
       "      <td>0.024809</td>\n",
       "      <td>0.007059</td>\n",
       "      <td>0.030536</td>\n",
       "      <td>0.980213</td>\n",
       "      <td>0.984519</td>\n",
       "      <td>0.139901</td>\n",
       "      <td>0.007205</td>\n",
       "    </tr>\n",
       "    <tr>\n",
       "      <th>3</th>\n",
       "      <td>S0769</td>\n",
       "      <td>0.004880</td>\n",
       "      <td>0.004983</td>\n",
       "      <td>0.016521</td>\n",
       "      <td>0.018518</td>\n",
       "      <td>0.005603</td>\n",
       "      <td>0.967942</td>\n",
       "      <td>0.067041</td>\n",
       "      <td>0.017040</td>\n",
       "      <td>0.973216</td>\n",
       "      <td>0.010303</td>\n",
       "    </tr>\n",
       "    <tr>\n",
       "      <th>4</th>\n",
       "      <td>S0770</td>\n",
       "      <td>0.004149</td>\n",
       "      <td>0.004910</td>\n",
       "      <td>0.020514</td>\n",
       "      <td>0.963360</td>\n",
       "      <td>0.014386</td>\n",
       "      <td>0.977964</td>\n",
       "      <td>0.977981</td>\n",
       "      <td>0.005547</td>\n",
       "      <td>0.004682</td>\n",
       "      <td>0.003245</td>\n",
       "    </tr>\n",
       "    <tr>\n",
       "      <th>...</th>\n",
       "      <td>...</td>\n",
       "      <td>...</td>\n",
       "      <td>...</td>\n",
       "      <td>...</td>\n",
       "      <td>...</td>\n",
       "      <td>...</td>\n",
       "      <td>...</td>\n",
       "      <td>...</td>\n",
       "      <td>...</td>\n",
       "      <td>...</td>\n",
       "      <td>...</td>\n",
       "    </tr>\n",
       "    <tr>\n",
       "      <th>799</th>\n",
       "      <td>S1565</td>\n",
       "      <td>0.249272</td>\n",
       "      <td>0.261199</td>\n",
       "      <td>0.029856</td>\n",
       "      <td>0.049306</td>\n",
       "      <td>0.021002</td>\n",
       "      <td>0.036268</td>\n",
       "      <td>0.043449</td>\n",
       "      <td>0.045787</td>\n",
       "      <td>0.051178</td>\n",
       "      <td>0.041913</td>\n",
       "    </tr>\n",
       "    <tr>\n",
       "      <th>800</th>\n",
       "      <td>S1566</td>\n",
       "      <td>0.195007</td>\n",
       "      <td>0.081339</td>\n",
       "      <td>0.015895</td>\n",
       "      <td>0.030167</td>\n",
       "      <td>0.009723</td>\n",
       "      <td>0.033261</td>\n",
       "      <td>0.118643</td>\n",
       "      <td>0.012025</td>\n",
       "      <td>0.016656</td>\n",
       "      <td>0.008129</td>\n",
       "    </tr>\n",
       "    <tr>\n",
       "      <th>801</th>\n",
       "      <td>S1567</td>\n",
       "      <td>0.037196</td>\n",
       "      <td>0.139999</td>\n",
       "      <td>0.019558</td>\n",
       "      <td>0.018965</td>\n",
       "      <td>0.011895</td>\n",
       "      <td>0.022444</td>\n",
       "      <td>0.224224</td>\n",
       "      <td>0.058456</td>\n",
       "      <td>0.069179</td>\n",
       "      <td>0.018665</td>\n",
       "    </tr>\n",
       "    <tr>\n",
       "      <th>802</th>\n",
       "      <td>S1568</td>\n",
       "      <td>0.025866</td>\n",
       "      <td>0.013000</td>\n",
       "      <td>0.009186</td>\n",
       "      <td>0.010708</td>\n",
       "      <td>0.022307</td>\n",
       "      <td>0.037386</td>\n",
       "      <td>0.014534</td>\n",
       "      <td>0.008838</td>\n",
       "      <td>0.008679</td>\n",
       "      <td>0.017175</td>\n",
       "    </tr>\n",
       "    <tr>\n",
       "      <th>803</th>\n",
       "      <td>S1569</td>\n",
       "      <td>0.264357</td>\n",
       "      <td>0.226405</td>\n",
       "      <td>0.031322</td>\n",
       "      <td>0.049064</td>\n",
       "      <td>0.017829</td>\n",
       "      <td>0.025673</td>\n",
       "      <td>0.047630</td>\n",
       "      <td>0.054246</td>\n",
       "      <td>0.048309</td>\n",
       "      <td>0.046236</td>\n",
       "    </tr>\n",
       "  </tbody>\n",
       "</table>\n",
       "<p>804 rows × 11 columns</p>\n",
       "</div>"
      ],
      "text/plain": [
       "    sample_id    basalt  carbonate  chloride  iron_oxide   oxalate  \\\n",
       "0       S0766  0.005956   0.006670  0.005801    0.006181  0.005039   \n",
       "1       S0767  0.010228   0.006565  0.006220    0.006668  0.006094   \n",
       "2       S0768  0.986097   0.117195  0.010101    0.024809  0.007059   \n",
       "3       S0769  0.004880   0.004983  0.016521    0.018518  0.005603   \n",
       "4       S0770  0.004149   0.004910  0.020514    0.963360  0.014386   \n",
       "..        ...       ...        ...       ...         ...       ...   \n",
       "799     S1565  0.249272   0.261199  0.029856    0.049306  0.021002   \n",
       "800     S1566  0.195007   0.081339  0.015895    0.030167  0.009723   \n",
       "801     S1567  0.037196   0.139999  0.019558    0.018965  0.011895   \n",
       "802     S1568  0.025866   0.013000  0.009186    0.010708  0.022307   \n",
       "803     S1569  0.264357   0.226405  0.031322    0.049064  0.017829   \n",
       "\n",
       "     oxychlorine  phyllosilicate  silicate   sulfate   sulfide  \n",
       "0       0.005492        0.005877  0.018863  0.005895  0.004924  \n",
       "1       0.006319        0.009484  0.029787  0.007979  0.005950  \n",
       "2       0.030536        0.980213  0.984519  0.139901  0.007205  \n",
       "3       0.967942        0.067041  0.017040  0.973216  0.010303  \n",
       "4       0.977964        0.977981  0.005547  0.004682  0.003245  \n",
       "..           ...             ...       ...       ...       ...  \n",
       "799     0.036268        0.043449  0.045787  0.051178  0.041913  \n",
       "800     0.033261        0.118643  0.012025  0.016656  0.008129  \n",
       "801     0.022444        0.224224  0.058456  0.069179  0.018665  \n",
       "802     0.037386        0.014534  0.008838  0.008679  0.017175  \n",
       "803     0.025673        0.047630  0.054246  0.048309  0.046236  \n",
       "\n",
       "[804 rows x 11 columns]"
      ]
     },
     "execution_count": 10,
     "metadata": {},
     "output_type": "execute_result"
    }
   ],
   "source": [
    "submission_format"
   ]
  },
  {
   "cell_type": "code",
   "execution_count": 11,
   "metadata": {},
   "outputs": [],
   "source": [
    "submission_path = os.path.join(Config.OUTPUT_DIR, 'submission_final.csv')\n",
    "submission_format.to_csv(submission_path, index=False)"
   ]
  },
  {
   "cell_type": "code",
   "execution_count": null,
   "metadata": {},
   "outputs": [],
   "source": []
  }
 ],
 "metadata": {
  "kernelspec": {
   "display_name": "Python 3 (ipykernel)",
   "language": "python",
   "name": "python3"
  },
  "language_info": {
   "codemirror_mode": {
    "name": "ipython",
    "version": 3
   },
   "file_extension": ".py",
   "mimetype": "text/x-python",
   "name": "python",
   "nbconvert_exporter": "python",
   "pygments_lexer": "ipython3",
   "version": "3.7.12"
  }
 },
 "nbformat": 4,
 "nbformat_minor": 4
}
